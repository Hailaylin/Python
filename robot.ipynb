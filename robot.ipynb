{
 "metadata": {
  "language_info": {
   "codemirror_mode": {
    "name": "ipython",
    "version": 3
   },
   "file_extension": ".py",
   "mimetype": "text/x-python",
   "name": "python",
   "nbconvert_exporter": "python",
   "pygments_lexer": "ipython3",
   "version": "3.8.6"
  },
  "orig_nbformat": 2,
  "kernelspec": {
   "name": "python386jvsc74a57bd02f464fc6b098c045d3fa2a81389409b13ae3524050d1c22ae6b1fc19c12f7a78",
   "display_name": "Python 3.8.6 64-bit"
  },
  "metadata": {
   "interpreter": {
    "hash": "2f464fc6b098c045d3fa2a81389409b13ae3524050d1c22ae6b1fc19c12f7a78"
   }
  }
 },
 "nbformat": 4,
 "nbformat_minor": 2,
 "cells": [
  {
   "source": [
    "# 尝试使用Jupyter Notebooks 学习python语法和玩爬虫\n",
    "* 感觉好高级，既能写代码又能写文字……好玩"
   ],
   "cell_type": "markdown",
   "metadata": {}
  },
  {
   "source": [
    "## 测试一下python语法"
   ],
   "cell_type": "markdown",
   "metadata": {}
  },
  {
   "cell_type": "code",
   "execution_count": 2,
   "metadata": {},
   "outputs": [
    {
     "output_type": "stream",
     "name": "stdout",
     "text": [
      "hello xihe!\n"
     ]
    }
   ],
   "source": [
    "# 输出\n",
    "print(\"hello xihe!\")"
   ]
  },
  {
   "cell_type": "code",
   "execution_count": 25,
   "metadata": {},
   "outputs": [
    {
     "output_type": "stream",
     "name": "stdout",
     "text": [
      "How do you do? Oh no, today is single doge day! \n Oh, you sitting in the Hebeu library alone! But i needn't to thing about some terriable mood problem, for me it is very nice!\n I love \"Python 3.8\"! And in the library, here have many xiaojiejie with less dress! I can view them with a pare of pure eyes!\n"
     ]
    }
   ],
   "source": [
    "# 基本数据类型 字符串\n",
    "str1 = \"How do you do?\"\n",
    "str2 = \"Oh no, today is single doge day!\"\n",
    "str3 = \"Oh, you sitting in the Hebeu library alone!\"\n",
    "str4 = \"But i needn\\'t to thing about some terriable mood problem, for me it is very nice!\"\n",
    "str5 = \"I love \\\"Python 3.8\\\"! And in the library, here have many xiaojiejie with less dress!\"\n",
    "str6 = \"I can view them with a pare of pure eyes!\"\n",
    "lsp = \" \"\n",
    "print(str1, str2, \"\\n\" ,str3, str4 + \"\\n\", str5, str6)"
   ]
  },
  {
   "cell_type": "code",
   "execution_count": 42,
   "metadata": {},
   "outputs": [
    {
     "output_type": "stream",
     "name": "stdout",
     "text": [
      "xiaojiejie zhishu =0.8. May be xiaojiejie more than 2 ?\n\nBelong mine xiaojiejie plus plus = 1.\n"
     ]
    }
   ],
   "source": [
    "# 基本数据类型 数据类型\n",
    "xiaojiejie = 2\n",
    "piaoliangzhishu = 0.7\n",
    "clothes = 0.6\n",
    "zhishu = xiaojiejie*piaoliangzhishu*clothes\n",
    "print(\"xiaojiejie zhishu =%.1f.\" %zhishu , \"May be xiaojiejie more than\" , xiaojiejie, \"?\\n\")\n",
    "print(\"Belong mine xiaojiejie plus plus = {0}.\".format( int(zhishu+0.3) ) );"
   ]
  },
  {
   "cell_type": "code",
   "execution_count": null,
   "metadata": {},
   "outputs": [],
   "source": []
  }
 ]
}